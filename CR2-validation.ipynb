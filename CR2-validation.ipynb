{
 "cells": [
  {
   "cell_type": "code",
   "execution_count": 18,
   "metadata": {},
   "outputs": [],
   "source": [
    "def student_pass(score1, score2, score3):\n",
    "    total = score1 + score2 + score3\n",
    "    average = total / 3\n",
    "\n",
    "    if score1 >= 40 and score2 >= 40 and score3 >= 40:\n",
    "        print(\"This student has passed.\")\n",
    "    elif (score1 >= 40 and score2 >= 40 or\n",
    "          score2 >= 40 and score3 >= 40 or\n",
    "          score3 >= 40 and score1 >= 40) and average > 50:\n",
    "        print(\"This student has passed.\")\n",
    "    else:\n",
    "        print(\"This student has not passed.\")"
   ]
  },
  {
   "cell_type": "code",
   "execution_count": 20,
   "metadata": {},
   "outputs": [
    {
     "name": "stdout",
     "output_type": "stream",
     "text": [
      "This student has passed.\n"
     ]
    }
   ],
   "source": [
    "student_pass(70,50,35)"
   ]
  },
  {
   "cell_type": "code",
   "execution_count": null,
   "metadata": {},
   "outputs": [],
   "source": []
  }
 ],
 "metadata": {
  "kernelspec": {
   "display_name": "Python 3",
   "language": "python",
   "name": "python3"
  },
  "language_info": {
   "codemirror_mode": {
    "name": "ipython",
    "version": 3
   },
   "file_extension": ".py",
   "mimetype": "text/x-python",
   "name": "python",
   "nbconvert_exporter": "python",
   "pygments_lexer": "ipython3",
   "version": "3.12.1"
  }
 },
 "nbformat": 4,
 "nbformat_minor": 2
}
